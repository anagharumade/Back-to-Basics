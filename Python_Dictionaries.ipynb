{
 "cells": [
  {
   "cell_type": "code",
   "execution_count": 1,
   "metadata": {},
   "outputs": [],
   "source": [
    "from collections import defaultdict, Counter"
   ]
  },
  {
   "cell_type": "code",
   "execution_count": 2,
   "metadata": {},
   "outputs": [],
   "source": [
    "\n",
    "attribute_names = (\"Play\", \"Outlook\", \"Temp\", \"Humidity\", \"Windy\")\n",
    "\n",
    "instances = [(\"No\", \"Sunny\", \"Hot\", \"High\", \"False\"),\n",
    "        (\"No\", \"Sunny\", \"Hot\", \"High\", \"True\"),\n",
    "        (\"Yes\", \"Overcast\", \"Hot\", \"High\", \"False\"),\n",
    "        (\"Yes\", \"Rain\", \"Mild\", \"High\", \"False\"),\n",
    "        (\"Yes\", \"Rain\", \"Cool\", \"Normal\", \"False\"),\n",
    "        (\"No\", \"Rain\", \"Cool\", \"Normal\", \"True\"),\n",
    "        (\"Yes\", \"Overcast\", \"Cool\", \"Normal\", \"True\"),\n",
    "        (\"No\", \"Sunny\", \"Mild\", \"High\", \"False\"),\n",
    "        (\"Yes\", \"Sunny\", \"Cool\", \"Normal\", \"False\"),\n",
    "        (\"Yes\", \"Rain\", \"Mild\", \"Normal\", \"False\"),\n",
    "        (\"Yes\", \"Sunny\", \"Mild\", \"Normal\", \"True\"),\n",
    "        (\"Yes\", \"Overcast\", \"Mild\", \"High\", \"True\"),\n",
    "        (\"Yes\", \"Overcast\", \"Hot\", \"Normal\", \"False\"),\n",
    "        (\"No\", \"Rain\", \"Mild\", \"High\", \"True\")]\n",
    "\n",
    "new_instances = (\"?\", \"Rain\", \"Mild\", \"Normal\", \"False\")\n",
    "\n",
    "parent_index=1\n",
    "child_instances = defaultdict(list)"
   ]
  },
  {
   "cell_type": "code",
   "execution_count": 3,
   "metadata": {},
   "outputs": [
    {
     "data": {
      "text/plain": [
       "'\\nkeys = set()\\nfor instance in instances:\\n    keys.add(instance[parent_index])\\n'"
      ]
     },
     "execution_count": 3,
     "metadata": {},
     "output_type": "execute_result"
    }
   ],
   "source": [
    "'''\n",
    "keys = set()\n",
    "for instance in instances:\n",
    "    keys.add(instance[parent_index])\n",
    "'''"
   ]
  },
  {
   "cell_type": "code",
   "execution_count": 4,
   "metadata": {},
   "outputs": [
    {
     "data": {
      "text/plain": [
       "'\\nchild_instances = {}\\nfor key in keys:\\n    temp_list = []\\n    for instance in instances:\\n        if instance[parent_index] == key:\\n            temp_list.append(instance)\\n        else:\\n            pass\\n    child_instances[key] = temp_list\\n'"
      ]
     },
     "execution_count": 4,
     "metadata": {},
     "output_type": "execute_result"
    }
   ],
   "source": [
    "'''\n",
    "child_instances = {}\n",
    "for key in keys:\n",
    "    temp_list = []\n",
    "    for instance in instances:\n",
    "        if instance[parent_index] == key:\n",
    "            temp_list.append(instance)\n",
    "        else:\n",
    "            pass\n",
    "    child_instances[key] = temp_list\n",
    "'''"
   ]
  },
  {
   "cell_type": "code",
   "execution_count": 5,
   "metadata": {},
   "outputs": [
    {
     "data": {
      "text/plain": [
       "defaultdict(list, {})"
      ]
     },
     "execution_count": 5,
     "metadata": {},
     "output_type": "execute_result"
    }
   ],
   "source": [
    "child_instances"
   ]
  },
  {
   "cell_type": "code",
   "execution_count": 6,
   "metadata": {},
   "outputs": [
    {
     "name": "stdout",
     "output_type": "stream",
     "text": [
      "defaultdict(<class 'list'>, {'Sunny': [], 'Overcast': [], 'Rain': []})\n",
      "defaultdict(<class 'list'>, {'Sunny': [('No', 'Sunny', 'Hot', 'High', 'False'), ('No', 'Sunny', 'Hot', 'High', 'True'), ('No', 'Sunny', 'Mild', 'High', 'False'), ('Yes', 'Sunny', 'Cool', 'Normal', 'False'), ('Yes', 'Sunny', 'Mild', 'Normal', 'True')], 'Overcast': [('Yes', 'Overcast', 'Hot', 'High', 'False'), ('Yes', 'Overcast', 'Cool', 'Normal', 'True'), ('Yes', 'Overcast', 'Mild', 'High', 'True'), ('Yes', 'Overcast', 'Hot', 'Normal', 'False')], 'Rain': [('Yes', 'Rain', 'Mild', 'High', 'False'), ('Yes', 'Rain', 'Cool', 'Normal', 'False'), ('No', 'Rain', 'Cool', 'Normal', 'True'), ('Yes', 'Rain', 'Mild', 'Normal', 'False'), ('No', 'Rain', 'Mild', 'High', 'True')]})\n"
     ]
    }
   ],
   "source": [
    "for i in instances:\n",
    "    child_instances[i[1]]\n",
    "print(child_instances)\n",
    "for key, value in child_instances.items():\n",
    "    value = ([item for item in instances if key in item])\n",
    "    child_instances[key] = value\n",
    "\n",
    "print(child_instances)"
   ]
  }
 ],
 "metadata": {
  "kernelspec": {
   "display_name": "Python 3",
   "language": "python",
   "name": "python3"
  },
  "language_info": {
   "codemirror_mode": {
    "name": "ipython",
    "version": 3
   },
   "file_extension": ".py",
   "mimetype": "text/x-python",
   "name": "python",
   "nbconvert_exporter": "python",
   "pygments_lexer": "ipython3",
   "version": "3.6.6"
  }
 },
 "nbformat": 4,
 "nbformat_minor": 2
}
